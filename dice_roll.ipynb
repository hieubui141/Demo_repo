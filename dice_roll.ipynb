{
  "nbformat": 4,
  "nbformat_minor": 0,
  "metadata": {
    "colab": {
      "name": "Untitled54.ipynb",
      "provenance": [],
      "authorship_tag": "ABX9TyMPtV4/AYRB0IGpip19mRDg",
      "include_colab_link": true
    },
    "kernelspec": {
      "name": "python3",
      "display_name": "Python 3"
    },
    "language_info": {
      "name": "python"
    }
  },
  "cells": [
    {
      "cell_type": "markdown",
      "metadata": {
        "id": "view-in-github",
        "colab_type": "text"
      },
      "source": [
        "<a href=\"https://colab.research.google.com/github/hieubui141/Demo_repo/blob/main/dice_roll.ipynb\" target=\"_parent\"><img src=\"https://colab.research.google.com/assets/colab-badge.svg\" alt=\"Open In Colab\"/></a>"
      ]
    },
    {
      "cell_type": "markdown",
      "metadata": {
        "id": "ECsT7VNYlkBR"
      },
      "source": [
        "Bài 00. Mô phỏng lại trò chơi sau: \n",
        "- Người chơi tung 2 con xúc xắc 6 mặt, các mặt có số chấm là: 1, 2, 3, 4, 5, 6\n",
        "- Quan sát kết quả, tính tổng các mặt hướng lên sau khi 2 con xúc xắc đứng yên\n",
        "- Lần đầu tiên,\n",
        "    - Nếu tổng là 7 hoặc 11 => Người chơi THẮNG\n",
        "    - Nếu tổng là 2, 3 hoặc 12 => Người chơi THUA\n",
        "    - Nếu tổng là 4, 5, 6, 8, 9 hoặc 10 => Đây sẽ là ĐIỂM của người chơi, và sang vòng tiếp theo\n",
        "- Để giành được THẮNG, người chơi tiếp tục tung 2 con xúc xắc cho đến khi ra được tổng = ĐIỂM trong lần đầu tiên; \n",
        "nếu tung ra được tổng = 7 => Người chơi THUA\n",
        "Epsilon Bit\n",
        "•\n",
        "7 thg 10"
      ]
    },
    {
      "cell_type": "code",
      "metadata": {
        "colab": {
          "base_uri": "https://localhost:8080/"
        },
        "id": "hkYk1q0Vi_na",
        "outputId": "9f36c461-2811-4b71-eaf1-cf7d1e433e40"
      },
      "source": [
        "import random \n",
        "def dice_roll1():\n",
        "  diceroll1 = random.randrange(1,7)\n",
        "  return diceroll1\n",
        "def dice_roll2():\n",
        "  diceroll2 = random.randrange(1,7)\n",
        "  return diceroll2\n",
        "a = dice_roll1() + dice_roll2()\n",
        "if a == 7 or a == 11:\n",
        " \n",
        "  print('Thắng',dice_roll1(),dice_roll2(), 'tong a ', a)\n",
        "\n",
        "elif a ==2 or a == 3 or a == 12 :\n",
        "  \n",
        "  print('thua',dice_roll1(),dice_roll2(), 'tong a', a)\n",
        "else :\n",
        "  b = dice_roll1() + dice_roll2()\n",
        "  if b == a :\n",
        "    print('chuc mung ban thang',b)\n",
        "  elif b == 7 :\n",
        "    print('thua roi',dice_roll1(),dice_roll2(),'tong b', b)\n",
        "  else : \n",
        "    print('thua roi ban oi',dice_roll1(),dice_roll2(),'tong b', b)"
      ],
      "execution_count": 50,
      "outputs": [
        {
          "output_type": "stream",
          "name": "stdout",
          "text": [
            "thua roi 6 1 tong b 7\n"
          ]
        }
      ]
    },
    {
      "cell_type": "code",
      "metadata": {
        "colab": {
          "base_uri": "https://localhost:8080/"
        },
        "id": "oRN-NkboxEIL",
        "outputId": "2bee7290-372e-415d-cb2b-04c5057ae5e7"
      },
      "source": [
        "import random \n",
        "def dice_roll1():\n",
        "  diceroll1 = random.randrange(1,7)\n",
        "  return diceroll1\n",
        "def dice_roll2():\n",
        "  diceroll2 = random.randrange(1,7)\n",
        "  return diceroll2\n",
        "a = dice_roll1() + dice_roll2()\n",
        "if a == 7 or a == 11:\n",
        " \n",
        "  print('Thắng', 'tong a ', a)\n",
        "\n",
        "elif a ==2 or a == 3 or a == 12 :\n",
        "  \n",
        "  print('thua',dice_roll1(),dice_roll2(), 'tong a', a)\n",
        "else :\n",
        "  print(a)\n",
        "  def dice_roll3():\n",
        "    diceroll3 = random.randrange(1,7)\n",
        "    return diceroll3\n",
        "\n",
        "  def dice_roll4():\n",
        "    diceroll4 = random.randrange(1,7)\n",
        "    return diceroll4\n",
        "\n",
        "  b = dice_roll3() + dice_roll4()\n",
        "  if b == a :\n",
        "    print(' chuc mung ban da thang',b)\n",
        "  elif b == 7 :\n",
        "    print('hen gap lai lan sau',b)\n",
        "  else :\n",
        "    print(' sr thu lai sau ', b) \n",
        "\n",
        "\n"
      ],
      "execution_count": 71,
      "outputs": [
        {
          "output_type": "stream",
          "name": "stdout",
          "text": [
            "4\n",
            " sr thu lai sau  3\n"
          ]
        }
      ]
    }
  ]
}