{
  "nbformat": 4,
  "nbformat_minor": 0,
  "metadata": {
    "colab": {
      "name": "Copy of Copy of Welcome to Colaboratory",
      "provenance": [],
      "collapsed_sections": [],
      "include_colab_link": true
    },
    "kernelspec": {
      "display_name": "Python 3",
      "name": "python3"
    }
  },
  "cells": [
    {
      "cell_type": "markdown",
      "metadata": {
        "id": "view-in-github",
        "colab_type": "text"
      },
      "source": [
        "<a href=\"https://colab.research.google.com/github/hieubui141/Demo_repo/blob/main/homework_03.ipynb\" target=\"_parent\"><img src=\"https://colab.research.google.com/assets/colab-badge.svg\" alt=\"Open In Colab\"/></a>"
      ]
    },
    {
      "cell_type": "markdown",
      "metadata": {
        "id": "N0xpHOzmPV4V"
      },
      "source": [
        "bài tập 1 "
      ]
    },
    {
      "cell_type": "code",
      "metadata": {
        "colab": {
          "base_uri": "https://localhost:8080/"
        },
        "id": "amPEQJbAF6AY",
        "outputId": "4470175d-f273-4488-9b0c-98e9c49ac73a"
      },
      "source": [
        "age = int(input(\" nhập tuổi của bạn : \"))\n",
        "income = float(input(\" nhập thu nhập hàng năm của bạn : \" ))\n",
        "print(f'điều kiện để vay ngân hàng của bạn là :', age >=18 and income >= 2500)\n",
        "\n",
        "\n",
        "\n"
      ],
      "execution_count": null,
      "outputs": [
        {
          "output_type": "stream",
          "name": "stdout",
          "text": [
            " nhập tuổi của bạn : 20\n",
            " nhập thu nhập hàng năm của bạn $ : 4000\n",
            "điều kiện để vay ngân hàng của bạn là : True\n"
          ]
        }
      ]
    },
    {
      "cell_type": "markdown",
      "metadata": {
        "id": "b0hITgURPfU7"
      },
      "source": [
        "bài tập 2 "
      ]
    },
    {
      "cell_type": "code",
      "metadata": {
        "colab": {
          "base_uri": "https://localhost:8080/"
        },
        "id": "AB2LX5z2PiCB",
        "outputId": "89fef970-9b3a-4684-bcef-1b77df854bdc"
      },
      "source": [
        "x= float(input('nhập giá trị của x ='))\n",
        "y=float(input('nhập giá trị của y='))\n",
        "z=float(input('nhập giá trị của z='))\n",
        "import math\n",
        "F = (x+y+z)/(x**2+y**2+1) - abs(x-z*math.cos(y))\n",
        "print(f'giá trị của biểu thức F bằng : ',round(F,3))"
      ],
      "execution_count": null,
      "outputs": [
        {
          "output_type": "stream",
          "name": "stdout",
          "text": [
            "nhập giá trị của x =1\n",
            "nhập giá trị của y=0\n",
            "nhập giá trị của z=1\n",
            "giá trị của F làlà :  1.0\n"
          ]
        }
      ]
    },
    {
      "cell_type": "markdown",
      "metadata": {
        "id": "eMman78NTT3L"
      },
      "source": [
        "bài tập 3"
      ]
    },
    {
      "cell_type": "code",
      "metadata": {
        "colab": {
          "base_uri": "https://localhost:8080/"
        },
        "id": "C4DFLoxmTV0l",
        "outputId": "c6b6ef2c-bfdd-4dd2-8ca8-a84bb2e7f76a"
      },
      "source": [
        "a = float(input('nhập giá trị của a = '))\n",
        "b= float(input('nhập giá trị trị của b = '))\n",
        "print(f'phần nguyên của phép chia là : ',a//b)\n",
        "print(f'phần dư của phép chia là : ',a%b)"
      ],
      "execution_count": null,
      "outputs": [
        {
          "output_type": "stream",
          "name": "stdout",
          "text": [
            "nhập giá trị của a : 7\n",
            "nhập giá trị trị của b : -2\n",
            "phần nguyên của phép chia là :  -4.0\n",
            "phần dư của phép chia là :  -1.0\n"
          ]
        }
      ]
    }
  ]
}