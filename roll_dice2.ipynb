{
  "nbformat": 4,
  "nbformat_minor": 0,
  "metadata": {
    "colab": {
      "name": "Copy of Untitled54.ipynb",
      "provenance": [],
      "authorship_tag": "ABX9TyMdchdoc78G/0UXzX4Abybs",
      "include_colab_link": true
    },
    "kernelspec": {
      "name": "python3",
      "display_name": "Python 3"
    },
    "language_info": {
      "name": "python"
    }
  },
  "cells": [
    {
      "cell_type": "markdown",
      "metadata": {
        "id": "view-in-github",
        "colab_type": "text"
      },
      "source": [
        "<a href=\"https://colab.research.google.com/github/hieubui141/Demo_repo/blob/main/roll_dice2.ipynb\" target=\"_parent\"><img src=\"https://colab.research.google.com/assets/colab-badge.svg\" alt=\"Open In Colab\"/></a>"
      ]
    },
    {
      "cell_type": "markdown",
      "metadata": {
        "id": "ECsT7VNYlkBR"
      },
      "source": [
        "Bài 00. Mô phỏng lại trò chơi sau: \n",
        "- Người chơi tung 2 con xúc xắc 6 mặt, các mặt có số chấm là: 1, 2, 3, 4, 5, 6\n",
        "- Quan sát kết quả, tính tổng các mặt hướng lên sau khi 2 con xúc xắc đứng yên\n",
        "- Lần đầu tiên,\n",
        "    - Nếu tổng là 7 hoặc 11 => Người chơi THẮNG\n",
        "    - Nếu tổng là 2, 3 hoặc 12 => Người chơi THUA\n",
        "    - Nếu tổng là 4, 5, 6, 8, 9 hoặc 10 => Đây sẽ là ĐIỂM của người chơi, và sang vòng tiếp theo\n",
        "- Để giành được THẮNG, người chơi tiếp tục tung 2 con xúc xắc cho đến khi ra được tổng = ĐIỂM trong lần đầu tiên; \n",
        "nếu tung ra được tổng = 7 => Người chơi THUA\n",
        "Epsilon Bit\n",
        "•\n",
        "7 thg 10"
      ]
    },
    {
      "cell_type": "code",
      "metadata": {
        "colab": {
          "base_uri": "https://localhost:8080/"
        },
        "id": "hkYk1q0Vi_na",
        "outputId": "9f36c461-2811-4b71-eaf1-cf7d1e433e40"
      },
      "source": [
        "import random \n",
        "def dice_roll1():\n",
        "  diceroll1 = random.randrange(1,7)\n",
        "  return diceroll1\n",
        "def dice_roll2():\n",
        "  diceroll2 = random.randrange(1,7)\n",
        "  return diceroll2\n",
        "a = dice_roll1() + dice_roll2()\n",
        "if a == 7 or a == 11:\n",
        " \n",
        "  print('Thắng',dice_roll1(),dice_roll2(), 'tong a ', a)\n",
        "\n",
        "elif a ==2 or a == 3 or a == 12 :\n",
        "  \n",
        "  print('thua',dice_roll1(),dice_roll2(), 'tong a', a)\n",
        "else :\n",
        "  b = dice_roll1() + dice_roll2()\n",
        "  if b == a :\n",
        "    print('chuc mung ban thang',b)\n",
        "  elif b == 7 :\n",
        "    print('thua roi',dice_roll1(),dice_roll2(),'tong b', b)\n",
        "  else : \n",
        "    print('thua roi ban oi',dice_roll1(),dice_roll2(),'tong b', b)"
      ],
      "execution_count": null,
      "outputs": [
        {
          "output_type": "stream",
          "name": "stdout",
          "text": [
            "thua roi 6 1 tong b 7\n"
          ]
        }
      ]
    },
    {
      "cell_type": "code",
      "metadata": {
        "colab": {
          "base_uri": "https://localhost:8080/"
        },
        "id": "oRN-NkboxEIL",
        "outputId": "99c1c39e-4444-4f55-f7a3-81376be06445"
      },
      "source": [
        "import random \n",
        "def dice_roll1():\n",
        "  ''' hàm lấy giá trị ngẫu nhiên con xúc xắc\n",
        "  '''\n",
        "  diceroll1 = random.randrange(1,7)\n",
        "  return diceroll1\n",
        "\n",
        "def dice_roll2():\n",
        "  ''' hàm lấy giá trị ngẫu nhiên con xúc xắc\n",
        "  '''\n",
        "  diceroll2 = random.randrange(1,7)\n",
        "  return diceroll2\n",
        "\n",
        "a = dice_roll1() + dice_roll2()\n",
        "if a == 7 or a == 11:\n",
        "  print('thắng với tổng của hai con xúc xắc là : ', a)\n",
        "elif a ==2 or a == 3 or a == 12 :\n",
        "  print('tổng hai con xúc xắc của bạn là : ', a,' thua cuộc ')\n",
        "else :\n",
        "  print(a)\n",
        "\n",
        "  def dice_roll3():\n",
        "    ''' hàm lấy giá trị ngẫu nhiên con xúc xắc\n",
        "    '''\n",
        "    diceroll3 = random.randrange(1,7)\n",
        "    return diceroll3\n",
        "\n",
        "  def dice_roll4():\n",
        "    ''' hàm lấy giá trị ngẫu nhiên con xúc xắc\n",
        "    '''\n",
        "    diceroll4 = random.randrange(1,7)\n",
        "    return diceroll4\n",
        "\n",
        "  b = dice_roll3() + dice_roll4()\n",
        "  if b == a :\n",
        "    print(' thắng cuộc với tổng hai lần đều bằng : ',b)\n",
        "  elif b == 7 :\n",
        "    print('lần thứ hai của bạn có tổng là : ',b, 'thua rồi')\n",
        "  else :\n",
        "    print('tổng lần hai của bạn là : ', b, 'thua rồi') \n",
        "\n",
        "\n"
      ],
      "execution_count": 1,
      "outputs": [
        {
          "output_type": "stream",
          "name": "stdout",
          "text": [
            "thắng với tổng của hai con xúc xắc là :  7\n"
          ]
        }
      ]
    }
  ]
}